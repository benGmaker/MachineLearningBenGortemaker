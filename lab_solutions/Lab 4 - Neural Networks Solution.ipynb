{
 "cells": [
  {
   "cell_type": "markdown",
   "metadata": {
    "id": "TL5y5fY9Jy_x"
   },
   "source": [
    "# Lab 4: Neural networks \n",
    "\n",
    "In this lab we will build dense neural networks on the MNIST dataset.\n",
    "\n",
    "Make sure you read the tutorial for this lab first."
   ]
  },
  {
   "cell_type": "markdown",
   "metadata": {},
   "source": [
    "## Load the data and create train-test splits"
   ]
  },
  {
   "cell_type": "code",
   "execution_count": 1,
   "metadata": {},
   "outputs": [],
   "source": [
    "# Global imports and settings\n",
    "%matplotlib inline\n",
    "import numpy as np\n",
    "import pandas as pd\n",
    "import openml as oml\n",
    "import matplotlib.pyplot as plt\n",
    "import pytorch_lightning as pl\n",
    "import torch\n",
    "import torch.nn.functional as F\n",
    "from torch import nn\n",
    "from torch.utils.data import DataLoader, random_split\n",
    "from torchvision import datasets, transforms"
   ]
  },
  {
   "cell_type": "code",
   "execution_count": 2,
   "metadata": {},
   "outputs": [
    {
     "name": "stderr",
     "output_type": "stream",
     "text": [
      "/var/folders/0t/5d8ttqzd773fy0wq3h5db0xr0000gn/T/ipykernel_395/3841004139.py:3: FutureWarning: Support for `dataset_format='array'` will be removed in 0.15,start using `dataset_format='dataframe' to ensure your code will continue to work. You can use the dataframe's `to_numpy` function to continue using numpy arrays.\n",
      "  X, y, _, _ = mnist.get_data(target=mnist.default_target_attribute, dataset_format='array');\n"
     ]
    },
    {
     "data": {
      "image/png": "[encoded data removed]",
      "text/plain": [
       "<Figure size 1000x500 with 5 Axes>"
      ]
     },
     "metadata": {},
     "output_type": "display_data"
    }
   ],
   "source": [
    "# Download MNIST data. Takes a while the first time.\n",
    "mnist = oml.datasets.get_dataset(554)\n",
    "X, y, _, _ = mnist.get_data(target=mnist.default_target_attribute, dataset_format='array');\n",
    "X = X.reshape(70000, 28, 28)\n",
    "\n",
    "# Take some random examples\n",
    "from random import randint\n",
    "fig, axes = plt.subplots(1, 5,  figsize=(10, 5))\n",
    "for i in range(5):\n",
    "    n = randint(0,70000)\n",
    "    axes[i].imshow(X[n], cmap=plt.cm.gray_r)\n",
    "    axes[i].set_xticks([])\n",
    "    axes[i].set_yticks([])\n",
    "    axes[i].set_xlabel(\"{}\".format(y[n]))\n",
    "plt.show();"
   ]
  },
  {
   "cell_type": "markdown",
   "metadata": {
    "id": "8ldP-5z1B2vL"
   },
   "source": [
    "## Exercise 1: Preprocessing\n",
    "* Normalize the data: map each feature value from its current representation (an integer between 0 and 255) to a floating-point value between 0 and 1.0. \n",
    "* Create a train-test split using the first 60000 examples for training\n",
    "* Flatten the data\n",
    "* Convert the data (numpy arrays) to PyTorch tensors\n",
    "* Create a TensorDataset for the training data, and another for the testing data"
   ]
  },
  {
   "cell_type": "code",
   "execution_count": null,
   "metadata": {},
   "outputs": [],
   "source": [
    "# Solution\n",
    "from sklearn.model_selection import train_test_split\n",
    "from torch.utils.data import DataLoader, TensorDataset\n",
    "\n",
    "# Flatten images, create train-test split\n",
    "X_flat = X.reshape(70000, 28 * 28)\n",
    "X_train, X_test, y_train, y_test = train_test_split(X_flat, y, stratify=y)\n",
    "\n",
    "# Convert numpy arrays to PyTorch tensors with correct types\n",
    "X_train_tensor = torch.tensor(X_train, dtype=torch.float32)\n",
    "y_train_tensor = torch.tensor(y_train, dtype=torch.long)\n",
    "X_test_tensor = torch.tensor(X_test, dtype=torch.float32)\n",
    "y_test_tensor = torch.tensor(y_test, dtype=torch.long)\n",
    "\n",
    "# Create PyTorch datasets\n",
    "train_dataset = TensorDataset(X_train_tensor, y_train_tensor)\n",
    "test_dataset = TensorDataset(X_test_tensor, y_test_tensor)"
   ]
  },
  {
   "cell_type": "markdown",
   "metadata": {
    "id": "3014ezH3C7jT"
   },
   "source": [
    "## Exercise 2: Create a deep neural net model\n",
    "\n",
    "Implement a `create_model` function which defines the topography of the deep neural net, specifying the following:\n",
    "\n",
    "* The number of layers in the deep neural net: Use 2 dense layers for now (one hidden en one output layer)\n",
    "* The number of nodes in each layer: these are parameters of your function.\n",
    "* Any regularization layers. Add at least one dropout layer.\n",
    "\n",
    "Consider:\n",
    "* What should be the shape of the input layer?\n",
    "* Which activation function you will need for the last layer, since this is a 10-class classification problem?"
   ]
  },
  {
   "cell_type": "code",
   "execution_count": null,
   "metadata": {},
   "outputs": [],
   "source": [
    "### Create and compile a 'deep' neural net\n",
    "def create_model(layer_1_units=32, layer_2_units=10, dropout_rate=0.3):\n",
    "    pass"
   ]
  },
  {
   "cell_type": "code",
   "execution_count": 11,
   "metadata": {
    "cellView": "both",
    "id": "pedD5GhlDC-y"
   },
   "outputs": [],
   "source": [
    "# Solution\n",
    "\n",
    "# Set device\n",
    "device = torch.device(\"cuda\" if torch.cuda.is_available() else \"cpu\")\n",
    "\n",
    "# Define the neural network\n",
    "class SimpleNN(nn.Module):\n",
    "    def __init__(self, layer_1_units=32, layer_2_units=10, dropout_rate=0.2):\n",
    "        super(SimpleNN, self).__init__()\n",
    "        self.flatten = nn.Flatten()\n",
    "        self.fc1 = nn.Linear(28 * 28, layer_1_units)\n",
    "        self.dropout = nn.Dropout(dropout_rate)\n",
    "        self.fc2 = nn.Linear(layer_1_units, layer_2_units)\n",
    "    \n",
    "    def forward(self, x):\n",
    "        x = self.flatten(x)\n",
    "        x = F.relu(self.fc1(x))\n",
    "        x = self.dropout(x)\n",
    "        return self.fc2(x)\n",
    "\n",
    "def create_model(layer_1_units=32, layer_2_units=10, dropout_rate=0.3):\n",
    "    model = SimpleNN(layer_1_units, layer_2_units, dropout_rate)\n",
    "    return model       "
   ]
  },
  {
   "cell_type": "markdown",
   "metadata": {},
   "source": [
    "## Exercise 3: Create a training function\n",
    "Implement a `train_model` function which trains and evaluates a given model.\n",
    "It should print out the train and validation loss and accuracy."
   ]
  },
  {
   "cell_type": "code",
   "execution_count": 13,
   "metadata": {},
   "outputs": [],
   "source": [
    "def train_model(model, train_dataset, val_dataset, epochs=10, batch_size=64, learning_rate=0.001):\n",
    "    \"\"\"\n",
    "    model: the model to train\n",
    "    train_dataset: the training data and labels\n",
    "    test_dataset: the test data and labels\n",
    "    epochs: the number of epochs to train for\n",
    "    batch_size: the batch size for minibatch SGD\n",
    "    learning_rate: the learning rate for the optimizer\n",
    "    \"\"\"\n",
    "    pass\n"
   ]
  },
  {
   "cell_type": "code",
   "execution_count": 14,
   "metadata": {},
   "outputs": [],
   "source": [
    "# Solution\n",
    "import torch.optim as optim\n",
    "import torchmetrics\n",
    "\n",
    "\n",
    "# Set device\n",
    "device = torch.device(\"cuda\" if torch.cuda.is_available() else \"cpu\")\n",
    "\n",
    "def train_model(model, train_dataset, val_dataset, epochs=10, batch_size=64, learning_rate=0.001):\n",
    "    \"\"\"\n",
    "    Trains the model and returns the history (loss, accuracy, validation loss, validation accuracy).\n",
    "    \n",
    "    model: PyTorch model to be trained\n",
    "    train_dataset: the training data and labels\n",
    "    test_dataset: the test data and labels\n",
    "    epochs: Number of training epochs\n",
    "    batch_size: Batch size for training\n",
    "    learning_rate: Learning rate for optimizer\n",
    "    \n",
    "    Returns:\n",
    "    history: Dictionary containing training loss, accuracy, validation loss, and validation accuracy per epoch.\n",
    "    \"\"\"\n",
    "    # Create DataLoaders\n",
    "    train_loader = DataLoader(train_dataset, batch_size=batch_size, shuffle=True)\n",
    "    val_loader = DataLoader(val_dataset, batch_size=batch_size, shuffle=False)\n",
    "\n",
    "    # Loss function, optimizer, and accuracy metric\n",
    "    criterion = nn.CrossEntropyLoss(label_smoothing=0.01)\n",
    "    optimizer = optim.RMSprop(model.parameters(), lr=learning_rate, momentum=0.0)\n",
    "    accuracy_metric = torchmetrics.Accuracy(task=\"multiclass\", num_classes=10).to(device)\n",
    "\n",
    "    # Move model to device\n",
    "    model.to(device)\n",
    "\n",
    "    # Store history for plotting\n",
    "    history = {\"accuracy\": [], \"val_accuracy\": [], \"loss\": [], \"val_loss\": []}\n",
    "\n",
    "    for epoch in range(epochs):\n",
    "        model.train()\n",
    "        total_loss, correct, total = 0, 0, 0\n",
    "\n",
    "        for X_batch, y_batch in train_loader:\n",
    "            X_batch, y_batch = X_batch.to(device), y_batch.to(device)\n",
    "\n",
    "            # Forward pass + loss calculation\n",
    "            outputs = model(X_batch)\n",
    "            loss = criterion(outputs, y_batch)\n",
    "\n",
    "            # Backward pass\n",
    "            optimizer.zero_grad()\n",
    "            loss.backward()\n",
    "            optimizer.step()\n",
    "\n",
    "            # Compute training metrics\n",
    "            total_loss += loss.item()\n",
    "            correct += accuracy_metric(outputs, y_batch).item() * y_batch.size(0)\n",
    "            total += y_batch.size(0)\n",
    "\n",
    "        # Compute epoch training metrics\n",
    "        train_loss = total_loss / len(train_loader)\n",
    "        train_acc = correct / total\n",
    "\n",
    "        # Validation phase\n",
    "        model.eval()\n",
    "        val_loss, val_correct, val_total = 0, 0, 0\n",
    "\n",
    "        with torch.no_grad():\n",
    "            for X_val, y_val in val_loader:\n",
    "                X_val, y_val = X_val.to(device), y_val.to(device)\n",
    "                val_outputs = model(X_val)\n",
    "                loss = criterion(val_outputs, y_val)\n",
    "\n",
    "                val_loss += loss.item()\n",
    "                val_correct += accuracy_metric(val_outputs, y_val).item() * y_val.size(0)\n",
    "                val_total += y_val.size(0)\n",
    "\n",
    "        val_avg_loss = val_loss / len(val_loader)\n",
    "        val_avg_acc = val_correct / val_total\n",
    "\n",
    "        # Store values in history\n",
    "        history[\"accuracy\"].append(train_acc)\n",
    "        history[\"val_accuracy\"].append(val_avg_acc)\n",
    "        history[\"loss\"].append(train_loss)\n",
    "        history[\"val_loss\"].append(val_avg_loss)\n",
    "\n",
    "        print(f\"Epoch [{epoch+1}/{epochs}], Loss: {train_loss:.4f}, Acc: {train_acc:.4f}, Val Loss: {val_avg_loss:.4f}, Val Acc: {val_avg_acc:.4f}\")\n",
    "\n",
    "    return history  # Returning history for later plotting"
   ]
  },
  {
   "cell_type": "markdown",
   "metadata": {
    "id": "D-IXYVfvM4gD"
   },
   "source": [
    "## Exercise 4: Evaluate the model\n",
    "\n",
    "Train the model with a learning rate of 0.003, 50 epochs, batch size 4000, and a validation set that is 20% of the total training data.\n",
    "\n",
    "Use default settings otherwise. Plot the learning curve of the loss, validation loss, accuracy, and validation accuracy. Finally, report the performance on the test set.\n",
    "\n",
    "Try to run the model on GPU.\n",
    "\n",
    "Feel free to use the plotting function below, or implement the callback from the tutorial to see results in real time."
   ]
  },
  {
   "cell_type": "code",
   "execution_count": null,
   "metadata": {
    "cellView": "form",
    "id": "QF0BFRXTOeR3"
   },
   "outputs": [],
   "source": [
    "# Helper plotting function\n",
    "#\n",
    "# history: the history object returned by the training function\n",
    "\n",
    "def plot_curve(history):\n",
    "    \"\"\"\n",
    "    Plots the learning curves for accuracy and loss.\n",
    "\n",
    "    history: Dictionary containing 'accuracy', 'val_accuracy', 'loss', 'val_loss' per epoch.\n",
    "    \"\"\"\n",
    "    epochs = range(1, len(history[\"accuracy\"]) + 1)\n",
    "\n",
    "    plt.figure(figsize=(12, 5))\n",
    "\n",
    "    # Accuracy Plot\n",
    "    plt.subplot(1, 2, 1)\n",
    "    plt.plot(epochs, history[\"accuracy\"], label=\"Train Accuracy\")\n",
    "    plt.plot(epochs, history[\"val_accuracy\"], label=\"Validation Accuracy\")\n",
    "    plt.xlabel(\"Epochs\")\n",
    "    plt.ylabel(\"Accuracy\")\n",
    "    plt.title(\"Accuracy Curve\")\n",
    "    plt.legend()\n",
    "\n",
    "    # Loss Plot\n",
    "    plt.subplot(1, 2, 2)\n",
    "    plt.plot(epochs, history[\"loss\"], label=\"Train Loss\")\n",
    "    plt.plot(epochs, history[\"val_loss\"], label=\"Validation Loss\")\n",
    "    plt.xlabel(\"Epochs\")\n",
    "    plt.ylabel(\"Loss\")\n",
    "    plt.title(\"Loss Curve\")\n",
    "    plt.legend()\n",
    "\n",
    "    plt.show()"
   ]
  },
  {
   "cell_type": "code",
   "execution_count": 21,
   "metadata": {
    "cellView": "both",
    "id": "nj3v5EKQFY8s"
   },
   "outputs": [
    {
     "name": "stdout",
     "output_type": "stream",
     "text": [
      "Epoch [1/10], Loss: 1.7313, Acc: 0.4590, Val Loss: 0.8359, Val Acc: 0.7502\n",
      "Epoch [2/10], Loss: 0.9644, Acc: 0.6799, Val Loss: 0.5141, Val Acc: 0.8594\n",
      "Epoch [3/10], Loss: 0.8192, Acc: 0.7405, Val Loss: 0.6168, Val Acc: 0.8269\n",
      "Epoch [4/10], Loss: 0.7737, Acc: 0.7547, Val Loss: 0.5022, Val Acc: 0.8762\n",
      "Epoch [5/10], Loss: 0.7424, Acc: 0.7661, Val Loss: 0.4150, Val Acc: 0.9079\n",
      "Epoch [6/10], Loss: 0.7319, Acc: 0.7731, Val Loss: 0.4259, Val Acc: 0.9111\n",
      "Epoch [7/10], Loss: 0.7189, Acc: 0.7797, Val Loss: 0.3873, Val Acc: 0.9218\n",
      "Epoch [8/10], Loss: 0.6983, Acc: 0.7900, Val Loss: 0.4015, Val Acc: 0.9074\n",
      "Epoch [9/10], Loss: 0.7019, Acc: 0.7897, Val Loss: 0.3757, Val Acc: 0.9209\n",
      "Epoch [10/10], Loss: 0.7040, Acc: 0.7879, Val Loss: 0.4082, Val Acc: 0.9081\n"
     ]
    },
    {
     "data": {
      "image/png": "[encoded data removed]",
      "text/plain": [
       "<Figure size 1200x500 with 2 Axes>"
      ]
     },
     "metadata": {},
     "output_type": "display_data"
    }
   ],
   "source": [
    "# Solution\n",
    "# Settings\n",
    "learning_rate = 0.003\n",
    "epochs = 50\n",
    "batch_size = 4000\n",
    "validation_split = 0.2\n",
    "\n",
    "# Create the model the model's topography.\n",
    "model = create_model(layer_1_units=32, layer_2_units=10, dropout_rate=0.3)\n",
    "\n",
    "# Train the model on the normalized training set.\n",
    "history = train_model(model, train_dataset, test_dataset, \n",
    "                      epochs=10, batch_size=64, learning_rate=0.001)\n",
    "\n",
    "plot_curve(history)"
   ]
  },
  {
   "cell_type": "markdown",
   "metadata": {
    "id": "Y5IKmk7D49_n"
   },
   "source": [
    "## Exercise 5: Optimize the model\n",
    "\n",
    "Try to optimize the model, either manually or with a tuning method. At least optimize the following:\n",
    "* the number of hidden layers \n",
    "* the number of nodes in each layer\n",
    "* the amount of dropout layers and the dropout rate\n",
    "\n",
    "Try to reach at least 96% accuracy against the test set."
   ]
  },
  {
   "cell_type": "code",
   "execution_count": null,
   "metadata": {},
   "outputs": [],
   "source": []
  }
 ],
 "metadata": {
  "colab": {
   "collapsed_sections": [],
   "name": "Copy of Multi-class classification with MNIST.ipynb",
   "private_outputs": true,
   "provenance": []
  },
  "kernelspec": {
   "display_name": "Python 3 (ipykernel)",
   "language": "python",
   "name": "python3"
  },
  "language_info": {
   "codemirror_mode": {
    "name": "ipython",
    "version": 3
   },
   "file_extension": ".py",
   "mimetype": "text/x-python",
   "name": "python",
   "nbconvert_exporter": "python",
   "pygments_lexer": "ipython3",
   "version": "3.10.16"
  }
 },
 "nbformat": 4,
 "nbformat_minor": 4
}
